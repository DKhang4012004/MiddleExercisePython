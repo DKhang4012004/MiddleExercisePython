{
 "cells": [
  {
   "metadata": {
    "ExecuteTime": {
     "end_time": "2025-10-26T13:47:35.532290Z",
     "start_time": "2025-10-26T13:47:35.515460Z"
    }
   },
   "cell_type": "code",
   "source": [
    "import pandas as pd\n",
    "#skiprows=n to skip the n row\n",
    "df = pd.read_csv(\n",
    "    'sample_data.csv',\n",
    "    sep=','\n",
    ")\n",
    "print(df.head()) #đọc 5 dòng đầu tiên"
   ],
   "id": "5518ed1d8bda53ea",
   "outputs": [
    {
     "name": "stdout",
     "output_type": "stream",
     "text": [
      "   ID        TenSanPham  SoLuong      GiaTri\n",
      "0   1       Laptop Dell       10  25000000.0\n",
      "1   2   Chuot khong day       50    350000.0\n",
      "2   3  Man hinh 27 inch       15         NaN\n",
      "3   4       Ban phim co       25   1800000.0\n",
      "4   5         Webcam HD        5    800000.0\n"
     ]
    }
   ],
   "execution_count": 38
  },
  {
   "metadata": {
    "ExecuteTime": {
     "end_time": "2025-10-26T13:36:35.481425Z",
     "start_time": "2025-10-26T13:36:35.450127Z"
    }
   },
   "cell_type": "code",
   "source": [
    "import pandas as pd\n",
    "\n",
    "# Tạo DataFrame mẫu\n",
    "data = {\n",
    "    'ID': [111, 112, 113],\n",
    "    'TenSanPham': ['Laptop Dell', 'Chuot khong day', 'Man hinh 27 inch'],\n",
    "    'SoLuong': [10, 50, 15],\n",
    "    'GiaTri': [25000000, 350000, 7000000]\n",
    "}\n",
    "\n",
    "df = pd.DataFrame(data)\n",
    "# Ghi ra file CSV\n",
    "df.to_csv('data.csv', index=False, sep=',') #khong ghi cot chi so\n",
    "df= pd.read_csv('data.csv')\n",
    "print(df.tail())\n",
    "\n"
   ],
   "id": "fbcfceac6670f2d3",
   "outputs": [
    {
     "name": "stdout",
     "output_type": "stream",
     "text": [
      "    ID        TenSanPham  SoLuong    GiaTri\n",
      "0  111       Laptop Dell       10  25000000\n",
      "1  112   Chuot khong day       50    350000\n",
      "2  113  Man hinh 27 inch       15   7000000\n"
     ]
    }
   ],
   "execution_count": 30
  },
  {
   "metadata": {
    "ExecuteTime": {
     "end_time": "2025-10-26T13:41:55.421337Z",
     "start_time": "2025-10-26T13:41:55.402738Z"
    }
   },
   "cell_type": "code",
   "source": [
    "import pandas as pd\n",
    "\n",
    "df = pd.read_json('sample_data.json')\n",
    "df = pd.json_normalize(df.to_dict(orient='records'))  # mở rộng trường ThongSo\n",
    "print(df)\n"
   ],
   "id": "5f2e0272c59109f1",
   "outputs": [
    {
     "name": "stdout",
     "output_type": "stream",
     "text": [
      "   ID              TenSanPham              Loai  SoLuongTon    GiaBan\n",
      "0   1         Laptop Dell XPS  Thiet bi dien tu          15  25000000\n",
      "1   2            Ao thun polo        Thoi trang         200    350000\n",
      "2   3  May hut bui thong minh       Do gia dung           8   7200000\n",
      "3   4   Sach lap trinh Python    Van phong pham          50    300000\n",
      "4   5      Tai nghe khong day  Thiet bi dien tu           0   1500000\n"
     ]
    }
   ],
   "execution_count": 34
  },
  {
   "metadata": {
    "ExecuteTime": {
     "end_time": "2025-10-26T13:46:52.893237Z",
     "start_time": "2025-10-26T13:46:52.872963Z"
    }
   },
   "cell_type": "code",
   "source": [
    "import pandas as pd\n",
    "\n",
    "# 1️⃣ Tạo DataFrame mẫu\n",
    "data = {\n",
    "    \"ID\": [11, 12, 13, 14, 15],\n",
    "    \"TenSanPham\": [\n",
    "        \"Laptop Dell XPS\",\n",
    "        \"Ao thun polo\",\n",
    "        \"May hut bui thong minh\",\n",
    "        \"Sach lap trinh Python\",\n",
    "        \"Tai nghe khong day\"\n",
    "    ],\n",
    "    \"Loai\": [\n",
    "        \"Thiet bi dien tu\",\n",
    "        \"Thoi trang\",\n",
    "        \"Do gia dung\",\n",
    "        \"Van phong pham\",\n",
    "        \"Thiet bi dien tu\"\n",
    "    ],\n",
    "    \"SoLuongTon\": [15, 200, 8, 50, 0],\n",
    "    \"GiaBan\": [25000000, 350000, 7200000, 300000, 1500000]\n",
    "}\n",
    "\n",
    "df = pd.DataFrame(data)\n",
    "\n",
    "# 2️⃣ Ghi ra file JSON\n",
    "df.to_json(\n",
    "    \"output.json\",    # tên file xuất ra\n",
    "    orient=\"records\", # mỗi dòng là 1 đối tượng (list các object)\n",
    "    indent=4,         # thụt đầu dòng 4 khoảng (để dễ đọc)\n",
    "    force_ascii=False # giữ nguyên tiếng Việt (không mã hóa Unicode)\n",
    ")\n",
    "\n",
    "df = pd.read_json('output.json')\n",
    "df = pd.json_normalize(df.to_dict(orient='records'))  # mở rộng trường ThongSo\n",
    "print(df)"
   ],
   "id": "b945f59e54b5a5c6",
   "outputs": [
    {
     "name": "stdout",
     "output_type": "stream",
     "text": [
      "   ID              TenSanPham              Loai  SoLuongTon    GiaBan\n",
      "0  11         Laptop Dell XPS  Thiet bi dien tu          15  25000000\n",
      "1  12            Ao thun polo        Thoi trang         200    350000\n",
      "2  13  May hut bui thong minh       Do gia dung           8   7200000\n",
      "3  14   Sach lap trinh Python    Van phong pham          50    300000\n",
      "4  15      Tai nghe khong day  Thiet bi dien tu           0   1500000\n"
     ]
    }
   ],
   "execution_count": 37
  },
  {
   "metadata": {
    "ExecuteTime": {
     "end_time": "2025-10-26T13:56:20.630800Z",
     "start_time": "2025-10-26T13:56:20.575958Z"
    }
   },
   "cell_type": "code",
   "source": [
    "import pandas as pd\n",
    "\n",
    "# Đọc sheet đầu tiên (index 0)\n",
    "df = pd.read_excel('sample_data.xlsx', sheet_name=0, engine='openpyxl')\n",
    "\n",
    "# In toàn bộ dữ liệu\n",
    "print(df.to_string(index=False))   # In đầy đủ, không rút gọn\n",
    "desc = df.describe()\n",
    "print(desc.drop(columns=['ID']))\n"
   ],
   "id": "6045db145dd74c36",
   "outputs": [
    {
     "name": "stdout",
     "output_type": "stream",
     "text": [
      " ID              TenSanPham  SoLuong     GiaTri\n",
      "  1             Laptop Dell       10 25000000.0\n",
      "  2         Chuot khong day       50   350000.0\n",
      "  3        Man hinh 27 inch       15        NaN\n",
      "  4             Ban phim co       25  1800000.0\n",
      "  5               Webcam HD        5   800000.0\n",
      "  6           Loa Bluetooth       30  1200000.0\n",
      "  7        O cung ngoai 1TB       12  1500000.0\n",
      "  8         Tai nghe gaming       45   950000.0\n",
      "  9          Router Wi-Fi 6        8  2200000.0\n",
      " 10            May in laser        2  4000000.0\n",
      " 11        Ban di chuot lon      100   150000.0\n",
      " 12   Sac du phong 10000mAh       60   450000.0\n",
      " 13    The nho MicroSD 64GB      200   200000.0\n",
      " 14             Den LED RGB       75   300000.0\n",
      " 15       Bo ve sinh laptop       90   120000.0\n",
      " 16          May chieu mini        3  5500000.0\n",
      " 17          Camera an ninh       18  1800000.0\n",
      " 18            Cap HDMI 2.0      150   100000.0\n",
      " 19             But cam ung       25   750000.0\n",
      " 20            Ba lo laptop       40   650000.0\n",
      " 21     Phan mem diet virus       50   490000.0\n",
      " 22           Ghe van phong       10  2800000.0\n",
      " 23        May huy tai lieu        1  3200000.0\n",
      " 24        Ban lam viec gap       15   900000.0\n",
      " 25       Gia do dien thoai      120    80000.0\n",
      " 26     Bo dung cu sua chua        8  1250000.0\n",
      " 27            May doc sach        4  3000000.0\n",
      " 28            May anh DSLR        1 18000000.0\n",
      " 29           Ong kinh tele        1 12000000.0\n",
      " 30             Pin may anh        5   400000.0\n",
      " 31     Chan may anh tripod       15   600000.0\n",
      " 32        Tui dung may anh       20   450000.0\n",
      " 33   Sach lap trinh Python       70   350000.0\n",
      " 34        Sach ky nang mem       80   250000.0\n",
      " 35          But bi cao cap      200    50000.0\n",
      " 36       Giay in A4 (ream)      300    75000.0\n",
      " 37           Tu dung ho so        3  4500000.0\n",
      " 38           May tinh bang       10  7000000.0\n",
      " 39      Dong ho thong minh       25  3500000.0\n",
      " 40          Binh giu nhiet      150   180000.0\n",
      " 41       Hop com van phong      120   220000.0\n",
      " 42          Coc su in logo      500    50000.0\n",
      " 43        Khan lau da nang      400    30000.0\n",
      " 44            Nuoc rua tay       60    90000.0\n",
      " 45       May loc khong khi        5  6000000.0\n",
      " 46          Quat dien dung       12   750000.0\n",
      " 47         May xay sinh to        8  1200000.0\n",
      " 48            Noi com dien       15   950000.0\n",
      " 49              Bep tu don       10  1500000.0\n",
      " 50          Bo dao nha bep       20   550000.0\n",
      " 51               Tham yoga       30   400000.0\n",
      " 52        Day nhay the duc       70   150000.0\n",
      " 53              Ta tay 5kg       10   600000.0\n",
      " 54          Bong da size 5       18   300000.0\n",
      " 55            Vot cau long       40   450000.0\n",
      " 56            Giay chay bo        5  1800000.0\n",
      " 57       Ao phong the thao       80   250000.0\n",
      " 58              Quan short       70   200000.0\n",
      " 59                Kinh boi       15   280000.0\n",
      " 60                  Mu boi       25   150000.0\n",
      " 61        Gang tay tap gym       30   220000.0\n",
      " 62      Binh nuoc the thao       90   100000.0\n",
      " 63     Thuc pham chuc nang       50   600000.0\n",
      " 64          Kem chong nang      120   250000.0\n",
      " 65             Sua rua mat       80   180000.0\n",
      " 66             Dau goi dau      150   150000.0\n",
      " 67           Ban chai dien       10   850000.0\n",
      " 68             May cao rau        5  1200000.0\n",
      " 69                Nuoc hoa       15   900000.0\n",
      " 70             Tui xach da        8  2500000.0\n",
      " 71               Vi da nam       20   700000.0\n",
      " 72            That lung da       18   550000.0\n",
      " 73                Kinh mat       30   400000.0\n",
      " 74           Khan quang co       50   150000.0\n",
      " 75          Ao so mi trang       40   450000.0\n",
      " 76                Quan tay       35   500000.0\n",
      " 77                 Vay dam       12   800000.0\n",
      " 78            Ao khoac gio       20   650000.0\n",
      " 79              Ung di mua        5   300000.0\n",
      " 80              Du che mua       60   120000.0\n",
      " 81          Bo ga goi niem       10  1500000.0\n",
      " 82           Chan long cuu       15   850000.0\n",
      " 83                  Goi om       40   200000.0\n",
      " 84      Rem cua chong nang        8   450000.0\n",
      " 85           Cay canh mini      100    90000.0\n",
      " 86                Bot giat      200   120000.0\n",
      " 87             Nuoc xa vai      150    80000.0\n",
      " 88          Tui rac tu huy      300    45000.0\n",
      " 89 Choi lau nha thong minh       12   350000.0\n",
      " 90        Hoa chat tay rua       50   180000.0\n",
      " 91              Bo am chen       15   700000.0\n",
      " 92              Lo hoa gom       20   250000.0\n",
      " 93        Tranh treo tuong       10   600000.0\n",
      " 94           Tham trai san        5   950000.0\n",
      " 95        Dung cu lam vuon        8   400000.0\n",
      " 96       May bom nuoc mini        2  1500000.0\n",
      " 97      Bo do nghe dien tu        5   800000.0\n",
      " 98         Keo dan da nang       70    50000.0\n",
      " 99          Bang dinh dien      100    30000.0\n",
      "100        Day cap mang LAN      200   150000.0\n",
      "101          Tu lanh 2 canh        1 10000000.0\n",
      "102      May giat cua truoc        1  8500000.0\n",
      "103         May say quan ao        1  7200000.0\n",
      "104     Noi chien khong dau        5  2500000.0\n",
      "          SoLuong        GiaTri\n",
      "count  104.000000  1.030000e+02\n",
      "mean    55.192308  1.668738e+06\n",
      "std     82.607750  3.541621e+06\n",
      "min      1.000000  3.000000e+04\n",
      "25%      9.500000  2.000000e+05\n",
      "50%     20.000000  5.000000e+05\n",
      "75%     70.000000  1.225000e+06\n",
      "max    500.000000  2.500000e+07\n"
     ]
    }
   ],
   "execution_count": 43
  },
  {
   "metadata": {
    "ExecuteTime": {
     "end_time": "2025-10-26T14:03:54.030398Z",
     "start_time": "2025-10-26T14:03:53.895956Z"
    }
   },
   "cell_type": "code",
   "source": [
    "import pandas as pd\n",
    "\n",
    "df = pd.read_excel('sample_data.xlsx', sheet_name=0, engine='openpyxl')\n",
    "thongke = df.describe().drop(columns=['ID'])\n",
    "\n",
    "with pd.ExcelWriter('sample_data.xlsx', engine='openpyxl', mode='a', if_sheet_exists='new') as writer:\n",
    "    thongke.to_excel(writer, sheet_name='ThongKe1')\n",
    "\n",
    "df = pd.read_excel('sample_data.xlsx', sheet_name='ThongKe1', engine='openpyxl')\n",
    "\n",
    "# In toàn bộ dữ liệu\n",
    "print(df.to_string(index=False))"
   ],
   "id": "c636caa2abe87a58",
   "outputs": [
    {
     "name": "stdout",
     "output_type": "stream",
     "text": [
      "Unnamed: 0    SoLuong       GiaTri\n",
      "     count 104.000000 1.030000e+02\n",
      "      mean  55.192308 1.668738e+06\n",
      "       std  82.607750 3.541621e+06\n",
      "       min   1.000000 3.000000e+04\n",
      "       25%   9.500000 2.000000e+05\n",
      "       50%  20.000000 5.000000e+05\n",
      "       75%  70.000000 1.225000e+06\n",
      "       max 500.000000 2.500000e+07\n"
     ]
    }
   ],
   "execution_count": 49
  },
  {
   "metadata": {
    "ExecuteTime": {
     "end_time": "2025-10-26T14:17:02.673727Z",
     "start_time": "2025-10-26T14:17:02.657711Z"
    }
   },
   "cell_type": "code",
   "source": [
    "df_txt = pd.read_csv('sample_data.txt', sep=None, engine='python',skiprows=1)\n",
    "print(df_txt.head())\n"
   ],
   "id": "4fb7ff1df04a13a9",
   "outputs": [
    {
     "name": "stdout",
     "output_type": "stream",
     "text": [
      "   ID        TenSanPham  SoLuong      GiaTri\n",
      "0   1       Laptop Dell       10  25000000.0\n",
      "1   2   Chuot khong day       50    350000.0\n",
      "2   3  Man hinh 27 inch       15         NaN\n",
      "3   4       Ban phim co       25   1800000.0\n",
      "4   5         Webcam HD        5    800000.0\n"
     ]
    }
   ],
   "execution_count": 67
  },
  {
   "metadata": {},
   "cell_type": "code",
   "outputs": [],
   "execution_count": null,
   "source": [
    "import pandas as pd\n",
    "\n",
    "# Dữ liệu mới cần ghi thêm\n",
    "new_data = pd.DataFrame({\n",
    "    'ID': [115, 116],\n",
    "    'TenSanPham': ['Loa Bluetooth', 'May tinh bang'],\n",
    "    'SoLuong': [30, 20],\n",
    "    'GiaTri': [1200000, 4500000]\n",
    "})\n",
    "\n",
    "# Thêm một dòng trống vào file trước khi ghi dữ liệu mới\n",
    "with open('sample_data.txt', 'a', encoding='utf-8') as f:\n",
    "    f.write('\\n')  # Thêm xuống dòng\n",
    "\n",
    "# Ghi nối tiếp vào file TXT\n",
    "new_data.to_csv(\n",
    "    'sample_data.txt',\n",
    "    sep=',',              # Ký tự phân tách\n",
    "    index=False,          # Không ghi cột index\n",
    "    header=False,         # Không ghi lại header\n",
    "    mode='a',             # Ghi nối tiếp\n",
    "    encoding='utf-8',\n",
    "    lineterminator='\\n'   # Đúng cú pháp\n",
    ")\n",
    "\n",
    "# Đọc lại file, bỏ dòng header đầu tiên (nếu trùng)\n",
    "df_txt = pd.read_csv('sample_data.txt', sep=',', skiprows=1, encoding='utf-8')\n",
    "print(\"Dữ liệu sau khi ghi nối tiếp:\")\n",
    "print(df_txt.tail())"
   ],
   "id": "c0d0d2ef8887b9b9"
  },
  {
   "metadata": {},
   "cell_type": "code",
   "outputs": [],
   "execution_count": null,
   "source": [
    "# ============== 10 CHỦ ĐỀ XỬ LÝ DATAFRAME VỚI NUMPY ==============\n",
    "import pandas as pd\n",
    "import numpy as np\n",
    "\n",
    "# Đọc dữ liệu từ file CSV\n",
    "df = pd.read_csv('sample_data_fixed.csv')\n",
    "print(\"=== DỮ LIỆU GỐC ===\")\n",
    "print(df.head())\n"
   ],
   "id": "27c58a080f188a96"
  },
  {
   "metadata": {
    "ExecuteTime": {
     "end_time": "2025-10-26T14:40:36.873640Z",
     "start_time": "2025-10-26T14:40:36.849199Z"
    }
   },
   "cell_type": "code",
   "source": [
    "# ============== CHỦ ĐỀ 1: THỐNG KÊ CƠ BẢN VỚI NUMPY ==============\n",
    "import pandas as pd\n",
    "import numpy as np\n",
    "\n",
    "df = pd.read_csv('sample_data.csv')\n",
    "\n",
    "# Ví dụ 1.1: Tính các chỉ số thống kê cơ bản\n",
    "print(\"=== VÍ DỤ 1.1: THỐNG KÊ CƠ BẢN ===\")\n",
    "so_luong_array = df['SoLuong'].values\n",
    "gia_tri_array = df['GiaTri'].fillna(0).values\n",
    "\n",
    "print(f\"Trung bình số lượng: {np.mean(so_luong_array):.2f}\")\n",
    "print(f\"Trung vị giá trị: {np.median(gia_tri_array):,.0f}\")\n",
    "print(f\"Độ lệch chuẩn số lượng: {np.std(so_luong_array):.2f}\")\n",
    "\n",
    "# Ví dụ 1.2: Tìm min, max và tổng\n",
    "print(\"\\n=== VÍ DỤ 1.2: MIN/MAX/TỔNG ===\")\n",
    "print(f\"Số lượng tối thiểu: {np.min(so_luong_array)}\")\n",
    "print(f\"Số lượng tối đa: {np.max(so_luong_array)}\")\n",
    "print(f\"Tổng giá trị toàn bộ: {np.sum(gia_tri_array):,.0f}\")\n",
    "print(f\"Phạm vi số lượng: {np.ptp(so_luong_array)}\")  # peak to peak\n"
   ],
   "id": "754d940eb8075423",
   "outputs": [
    {
     "name": "stdout",
     "output_type": "stream",
     "text": [
      "=== VÍ DỤ 1.1: THỐNG KÊ CƠ BẢN ===\n",
      "Trung bình số lượng: 48.15\n",
      "Trung vị giá trị: 775,000\n",
      "Độ lệch chuẩn số lượng: 51.30\n",
      "\n",
      "=== VÍ DỤ 1.2: MIN/MAX/TỔNG ===\n",
      "Số lượng tối thiểu: 2\n",
      "Số lượng tối đa: 200\n",
      "Tổng giá trị toàn bộ: 47,820,000\n",
      "Phạm vi số lượng: 198\n"
     ]
    }
   ],
   "execution_count": 71
  },
  {
   "metadata": {
    "ExecuteTime": {
     "end_time": "2025-10-26T14:40:46.646206Z",
     "start_time": "2025-10-26T14:40:46.618281Z"
    }
   },
   "cell_type": "code",
   "source": [
    "# ============== CHỦ ĐỀ 2: FILTERING VÀ BOOLEAN INDEXING ==============\n",
    "import pandas as pd\n",
    "import numpy as np\n",
    "\n",
    "df = pd.read_csv('sample_data.csv')\n",
    "\n",
    "# Ví dụ 2.1: Lọc sản phẩm có số lượng > 20\n",
    "print(\"=== VÍ DỤ 2.1: LỌC THEO SỐ LƯỢNG ===\")\n",
    "so_luong = df['SoLuong'].values\n",
    "mask_so_luong = so_luong > 20\n",
    "san_pham_nhieu = df[mask_so_luong]\n",
    "print(f\"Sản phẩm có số lượng > 20: {len(san_pham_nhieu)} sản phẩm\")\n",
    "print(san_pham_nhieu[['TenSanPham', 'SoLuong']].to_string(index=False))\n",
    "\n",
    "# Ví dụ 2.2: Lọc sản phẩm có giá trị trong khoảng\n",
    "print(\"\\n=== VÍ DỤ 2.2: LỌC THEO KHOẢNG GIÁ TRỊ ===\")\n",
    "gia_tri = df['GiaTri'].fillna(0).values\n",
    "mask_gia_tri = (gia_tri >= 500000) & (gia_tri <= 2000000)\n",
    "san_pham_trung_binh = df[mask_gia_tri]\n",
    "print(f\"Sản phẩm có giá 500K-2M: {len(san_pham_trung_binh)} sản phẩm\")\n",
    "print(san_pham_trung_binh[['TenSanPham', 'GiaTri']].to_string(index=False))\n"
   ],
   "id": "df45cfc314537d7b",
   "outputs": [
    {
     "name": "stdout",
     "output_type": "stream",
     "text": [
      "=== VÍ DỤ 2.1: LỌC THEO SỐ LƯỢNG ===\n",
      "Sản phẩm có số lượng > 20: 12 sản phẩm\n",
      "           TenSanPham  SoLuong\n",
      "      Chuot khong day       50\n",
      "          Ban phim co       25\n",
      "        Loa Bluetooth       30\n",
      "      Tai nghe gaming       45\n",
      "     Ban di chuot lon      100\n",
      "Sac du phong 10000mAh       60\n",
      " The nho MicroSD 64GB      200\n",
      "          Den LED RGB       75\n",
      "    Bo ve sinh laptop       90\n",
      "         Cap HDMI 2.0      150\n",
      "          But cam ung       25\n",
      "         Ba lo laptop       40\n",
      "\n",
      "=== VÍ DỤ 2.2: LỌC THEO KHOẢNG GIÁ TRỊ ===\n",
      "Sản phẩm có giá 500K-2M: 8 sản phẩm\n",
      "      TenSanPham    GiaTri\n",
      "     Ban phim co 1800000.0\n",
      "       Webcam HD  800000.0\n",
      "   Loa Bluetooth 1200000.0\n",
      "O cung ngoai 1TB 1500000.0\n",
      " Tai nghe gaming  950000.0\n",
      "  Camera an ninh 1800000.0\n",
      "     But cam ung  750000.0\n",
      "    Ba lo laptop  650000.0\n"
     ]
    }
   ],
   "execution_count": 72
  },
  {
   "metadata": {
    "ExecuteTime": {
     "end_time": "2025-10-26T14:40:54.235045Z",
     "start_time": "2025-10-26T14:40:54.201338Z"
    }
   },
   "cell_type": "code",
   "source": [
    "# ============== CHỦ ĐỀ 3: SORTING VÀ RANKING ==============\n",
    "import pandas as pd\n",
    "import numpy as np\n",
    "\n",
    "df = pd.read_csv('sample_data.csv')\n",
    "\n",
    "# Ví dụ 3.1: Sắp xếp theo số lượng giảm dần\n",
    "print(\"=== VÍ DỤ 3.1: SẮP XẾP THEO SỐ LƯỢNG ===\")\n",
    "so_luong = df['SoLuong'].values\n",
    "sorted_indices = np.argsort(-so_luong)  # Sắp xếp giảm dần\n",
    "df_sorted = df.iloc[sorted_indices]\n",
    "print(\"Top 5 sản phẩm có số lượng cao nhất:\")\n",
    "print(df_sorted[['TenSanPham', 'SoLuong']].head().to_string(index=False))\n",
    "\n",
    "# Ví dụ 3.2: Tạo ranking cho sản phẩm theo giá trị\n",
    "print(\"\\n=== VÍ DỤ 3.2: RANKING THEO GIÁ TRỊ ===\")\n",
    "gia_tri = df['GiaTri'].fillna(0).values\n",
    "ranking = np.argsort(np.argsort(-gia_tri)) + 1  # Ranking từ 1\n",
    "df['Ranking'] = ranking\n",
    "print(\"Ranking sản phẩm theo giá trị:\")\n",
    "print(df[['TenSanPham', 'GiaTri', 'Ranking']].sort_values('Ranking').to_string(index=False))\n"
   ],
   "id": "a3dac40d6d81321c",
   "outputs": [
    {
     "name": "stdout",
     "output_type": "stream",
     "text": [
      "=== VÍ DỤ 3.1: SẮP XẾP THEO SỐ LƯỢNG ===\n",
      "Top 5 sản phẩm có số lượng cao nhất:\n",
      "          TenSanPham  SoLuong\n",
      "The nho MicroSD 64GB      200\n",
      "        Cap HDMI 2.0      150\n",
      "    Ban di chuot lon      100\n",
      "   Bo ve sinh laptop       90\n",
      "         Den LED RGB       75\n",
      "\n",
      "=== VÍ DỤ 3.2: RANKING THEO GIÁ TRỊ ===\n",
      "Ranking sản phẩm theo giá trị:\n",
      "           TenSanPham     GiaTri  Ranking\n",
      "          Laptop Dell 25000000.0        1\n",
      "       May chieu mini  5500000.0        2\n",
      "         May in laser  4000000.0        3\n",
      "       Router Wi-Fi 6  2200000.0        4\n",
      "          Ban phim co  1800000.0        5\n",
      "       Camera an ninh  1800000.0        6\n",
      "     O cung ngoai 1TB  1500000.0        7\n",
      "        Loa Bluetooth  1200000.0        8\n",
      "      Tai nghe gaming   950000.0        9\n",
      "            Webcam HD   800000.0       10\n",
      "          But cam ung   750000.0       11\n",
      "         Ba lo laptop   650000.0       12\n",
      "Sac du phong 10000mAh   450000.0       13\n",
      "      Chuot khong day   350000.0       14\n",
      "          Den LED RGB   300000.0       15\n",
      " The nho MicroSD 64GB   200000.0       16\n",
      "     Ban di chuot lon   150000.0       17\n",
      "    Bo ve sinh laptop   120000.0       18\n",
      "         Cap HDMI 2.0   100000.0       19\n",
      "     Man hinh 27 inch        NaN       20\n"
     ]
    }
   ],
   "execution_count": 73
  },
  {
   "metadata": {
    "ExecuteTime": {
     "end_time": "2025-10-26T14:41:03.004795Z",
     "start_time": "2025-10-26T14:41:02.970513Z"
    }
   },
   "cell_type": "code",
   "source": [
    "# ============== CHỦ ĐỀ 4: MATHEMATICAL OPERATIONS ==============\n",
    "import pandas as pd\n",
    "import numpy as np\n",
    "\n",
    "df = pd.read_csv('sample_data.csv')\n",
    "\n",
    "# Ví dụ 4.1: Tính tổng giá trị kho\n",
    "print(\"=== VÍ DỤ 4.1: TÍNH TỔNG GIÁ TRỊ KHO ===\")\n",
    "so_luong = df['SoLuong'].values\n",
    "gia_tri = df['GiaTri'].fillna(0).values\n",
    "tong_gia_tri_kho = np.multiply(so_luong, gia_tri)\n",
    "df['TongGiaTriKho'] = tong_gia_tri_kho\n",
    "print(\"Tổng giá trị từng sản phẩm trong kho:\")\n",
    "print(df[['TenSanPham', 'SoLuong', 'GiaTri', 'TongGiaTriKho']].head().to_string(index=False))\n",
    "print(f\"Tổng giá trị toàn kho: {np.sum(tong_gia_tri_kho):,.0f}\")\n",
    "\n",
    "# Ví dụ 4.2: Tính phần trăm đóng góp\n",
    "print(\"\\n=== VÍ DỤ 4.2: PHẦN TRĂM ĐÓNG GÓP ===\")\n",
    "tong_kho = np.sum(tong_gia_tri_kho)\n",
    "phan_tram = np.divide(tong_gia_tri_kho, tong_kho) * 100\n",
    "df['PhanTramDongGop'] = phan_tram\n",
    "print(\"Phần trăm đóng góp của từng sản phẩm:\")\n",
    "top_contributors = df.nlargest(5, 'PhanTramDongGop')\n",
    "print(top_contributors[['TenSanPham', 'PhanTramDongGop']].to_string(index=False))\n"
   ],
   "id": "8878e823dc5ca71c",
   "outputs": [
    {
     "name": "stdout",
     "output_type": "stream",
     "text": [
      "=== VÍ DỤ 4.1: TÍNH TỔNG GIÁ TRỊ KHO ===\n",
      "Tổng giá trị từng sản phẩm trong kho:\n",
      "      TenSanPham  SoLuong     GiaTri  TongGiaTriKho\n",
      "     Laptop Dell       10 25000000.0    250000000.0\n",
      " Chuot khong day       50   350000.0     17500000.0\n",
      "Man hinh 27 inch       15        NaN            0.0\n",
      "     Ban phim co       25  1800000.0     45000000.0\n",
      "       Webcam HD        5   800000.0      4000000.0\n",
      "Tổng giá trị toàn kho: 662,800,000\n",
      "\n",
      "=== VÍ DỤ 4.2: PHẦN TRĂM ĐÓNG GÓP ===\n",
      "Phần trăm đóng góp của từng sản phẩm:\n",
      "          TenSanPham  PhanTramDongGop\n",
      "         Laptop Dell        37.718769\n",
      "         Ban phim co         6.789378\n",
      "     Tai nghe gaming         6.449909\n",
      "The nho MicroSD 64GB         6.035003\n",
      "       Loa Bluetooth         5.431503\n"
     ]
    }
   ],
   "execution_count": 74
  },
  {
   "metadata": {
    "ExecuteTime": {
     "end_time": "2025-10-26T14:49:27.140042Z",
     "start_time": "2025-10-26T14:49:27.117170Z"
    }
   },
   "cell_type": "code",
   "source": [
    "# ============== CHỦ ĐỀ 5: ARRAY INDEXING VÀ SLICING ==============\n",
    "import pandas as pd\n",
    "import numpy as np\n",
    "\n",
    "df = pd.read_csv('sample_data.csv')\n",
    "\n",
    "# Ví dụ 5.1: Advanced indexing - Lấy sản phẩm theo điều kiện phức tạp\n",
    "print(\"=== VÍ DỤ 5.1: ADVANCED INDEXING ===\")\n",
    "so_luong = df['SoLuong'].values\n",
    "gia_tri = df['GiaTri'].fillna(0).values\n",
    "\n",
    "# Lấy index của các sản phẩm có số lượng lẻ và giá trị > 1 triệu\n",
    "indices_le = np.where(so_luong % 2 == 1)[0]\n",
    "indices_gia_cao = np.where(gia_tri > 1000000)[0]\n",
    "indices_hop_le = np.intersect1d(indices_le, indices_gia_cao)\n",
    "\n",
    "print(f\"Sản phẩm có số lượng lẻ và giá > 1 triệu:\")\n",
    "if len(indices_hop_le) > 0:\n",
    "    san_pham_dac_biet = df.iloc[indices_hop_le]\n",
    "    print(san_pham_dac_biet[['TenSanPham', 'SoLuong', 'GiaTri']].to_string(index=False))\n",
    "else:\n",
    "    print(\"Không có sản phẩm nào thỏa mãn điều kiện\")\n",
    "\n",
    "# Ví dụ 5.2: Fancy indexing và array slicing\n",
    "print(\"\\n=== VÍ DỤ 5.2: FANCY INDEXING VÀ SLICING ===\")\n",
    "# Lấy ngẫu nhiên 3 index\n",
    "np.random.seed(42)\n",
    "random_indices = np.random.choice(len(df), size=min(3, len(df)), replace=False)\n",
    "print(f\"Các index được chọn ngẫu nhiên: {random_indices}\")\n",
    "\n",
    "# Fancy indexing để lấy dữ liệu\n",
    "selected_data = df.iloc[random_indices]\n",
    "print(\"\\nDữ liệu của các sản phẩm được chọn:\")\n",
    "print(selected_data[['TenSanPham', 'SoLuong', 'GiaTri']].to_string(index=False))\n",
    "\n",
    "# Array slicing với step\n",
    "print(f\"\\nMỗi sản phẩm thứ 2 (slicing với step=2):\")\n",
    "every_second = df.iloc[::2]  # Lấy mỗi dòng thứ 2\n",
    "print(every_second[['TenSanPham', 'SoLuong']].head().to_string(index=False))"
   ],
   "id": "7ef4d630d75ed9eb",
   "outputs": [
    {
     "name": "stdout",
     "output_type": "stream",
     "text": [
      "=== VÍ DỤ 5.1: ADVANCED INDEXING ===\n",
      "Sản phẩm có số lượng lẻ và giá > 1 triệu:\n",
      "    TenSanPham  SoLuong    GiaTri\n",
      "   Ban phim co       25 1800000.0\n",
      "May chieu mini        3 5500000.0\n",
      "\n",
      "=== VÍ DỤ 5.2: FANCY INDEXING VÀ SLICING ===\n",
      "Các index được chọn ngẫu nhiên: [ 0 17 15]\n",
      "\n",
      "Dữ liệu của các sản phẩm được chọn:\n",
      "    TenSanPham  SoLuong     GiaTri\n",
      "   Laptop Dell       10 25000000.0\n",
      "  Cap HDMI 2.0      150   100000.0\n",
      "May chieu mini        3  5500000.0\n",
      "\n",
      "Mỗi sản phẩm thứ 2 (slicing với step=2):\n",
      "      TenSanPham  SoLuong\n",
      "     Laptop Dell       10\n",
      "Man hinh 27 inch       15\n",
      "       Webcam HD        5\n",
      "O cung ngoai 1TB       12\n",
      "  Router Wi-Fi 6        8\n"
     ]
    }
   ],
   "execution_count": 85
  },
  {
   "metadata": {
    "ExecuteTime": {
     "end_time": "2025-10-26T14:42:59.193052Z",
     "start_time": "2025-10-26T14:42:59.158953Z"
    }
   },
   "cell_type": "code",
   "source": [
    "# ============== CHỦ ĐỀ 6: CONDITIONAL OPERATIONS ==============\n",
    "import pandas as pd\n",
    "import numpy as np\n",
    "\n",
    "df = pd.read_csv('sample_data.csv')\n",
    "\n",
    "# Ví dụ 6.1: Phân loại sản phẩm theo số lượng\n",
    "print(\"=== VÍ DỤ 6.1: PHÂN LOẠI THEO SỐ LƯỢNG ===\")\n",
    "so_luong = df['SoLuong'].values\n",
    "phan_loai = np.where(so_luong >= 30, \"Nhiều\",\n",
    "                    np.where(so_luong >= 10, \"Trung bình\", \"Ít\"))\n",
    "df['PhanLoaiSoLuong'] = phan_loai\n",
    "print(\"Phân loại sản phẩm theo số lượng:\")\n",
    "print(df[['TenSanPham', 'SoLuong', 'PhanLoaiSoLuong']].to_string(index=False))\n",
    "\n",
    "# Ví dụ 6.2: Tính discount dựa trên giá trị\n",
    "print(\"\\n=== VÍ DỤ 6.2: TÍNH DISCOUNT THEO GIÁ TRỊ ===\")\n",
    "gia_tri = df['GiaTri'].fillna(0).values\n",
    "discount = np.select(\n",
    "    [gia_tri >= 2000000, gia_tri >= 1000000, gia_tri >= 500000],\n",
    "    [0.15, 0.10, 0.05],\n",
    "    default=0.02\n",
    ")\n",
    "df['Discount'] = discount\n",
    "df['GiaSauGiam'] = gia_tri * (1 - discount)\n",
    "print(\"Giá sau khi áp dụng discount:\")\n",
    "print(df[['TenSanPham', 'GiaTri', 'Discount', 'GiaSauGiam']].to_string(index=False))\n"
   ],
   "id": "c636f249f8626ee8",
   "outputs": [
    {
     "name": "stdout",
     "output_type": "stream",
     "text": [
      "=== VÍ DỤ 6.1: PHÂN LOẠI THEO SỐ LƯỢNG ===\n",
      "Phân loại sản phẩm theo số lượng:\n",
      "           TenSanPham  SoLuong PhanLoaiSoLuong\n",
      "          Laptop Dell       10      Trung bình\n",
      "      Chuot khong day       50           Nhiều\n",
      "     Man hinh 27 inch       15      Trung bình\n",
      "          Ban phim co       25      Trung bình\n",
      "            Webcam HD        5              Ít\n",
      "        Loa Bluetooth       30           Nhiều\n",
      "     O cung ngoai 1TB       12      Trung bình\n",
      "      Tai nghe gaming       45           Nhiều\n",
      "       Router Wi-Fi 6        8              Ít\n",
      "         May in laser        2              Ít\n",
      "     Ban di chuot lon      100           Nhiều\n",
      "Sac du phong 10000mAh       60           Nhiều\n",
      " The nho MicroSD 64GB      200           Nhiều\n",
      "          Den LED RGB       75           Nhiều\n",
      "    Bo ve sinh laptop       90           Nhiều\n",
      "       May chieu mini        3              Ít\n",
      "       Camera an ninh       18      Trung bình\n",
      "         Cap HDMI 2.0      150           Nhiều\n",
      "          But cam ung       25      Trung bình\n",
      "         Ba lo laptop       40           Nhiều\n",
      "\n",
      "=== VÍ DỤ 6.2: TÍNH DISCOUNT THEO GIÁ TRỊ ===\n",
      "Giá sau khi áp dụng discount:\n",
      "           TenSanPham     GiaTri  Discount  GiaSauGiam\n",
      "          Laptop Dell 25000000.0      0.15  21250000.0\n",
      "      Chuot khong day   350000.0      0.02    343000.0\n",
      "     Man hinh 27 inch        NaN      0.02         0.0\n",
      "          Ban phim co  1800000.0      0.10   1620000.0\n",
      "            Webcam HD   800000.0      0.05    760000.0\n",
      "        Loa Bluetooth  1200000.0      0.10   1080000.0\n",
      "     O cung ngoai 1TB  1500000.0      0.10   1350000.0\n",
      "      Tai nghe gaming   950000.0      0.05    902500.0\n",
      "       Router Wi-Fi 6  2200000.0      0.15   1870000.0\n",
      "         May in laser  4000000.0      0.15   3400000.0\n",
      "     Ban di chuot lon   150000.0      0.02    147000.0\n",
      "Sac du phong 10000mAh   450000.0      0.02    441000.0\n",
      " The nho MicroSD 64GB   200000.0      0.02    196000.0\n",
      "          Den LED RGB   300000.0      0.02    294000.0\n",
      "    Bo ve sinh laptop   120000.0      0.02    117600.0\n",
      "       May chieu mini  5500000.0      0.15   4675000.0\n",
      "       Camera an ninh  1800000.0      0.10   1620000.0\n",
      "         Cap HDMI 2.0   100000.0      0.02     98000.0\n",
      "          But cam ung   750000.0      0.05    712500.0\n",
      "         Ba lo laptop   650000.0      0.05    617500.0\n"
     ]
    }
   ],
   "execution_count": 76
  },
  {
   "metadata": {
    "ExecuteTime": {
     "end_time": "2025-10-26T14:43:22.417194Z",
     "start_time": "2025-10-26T14:43:22.394056Z"
    }
   },
   "cell_type": "code",
   "source": [
    "# ============== CHỦ ĐỀ 7: AGGREGATION VÀ GROUPING ==============\n",
    "import pandas as pd\n",
    "import numpy as np\n",
    "\n",
    "df = pd.read_csv('sample_data.csv')\n",
    "\n",
    "# Ví dụ 7.1: Chia nhóm theo khoảng giá và tính tổng\n",
    "print(\"=== VÍ DỤ 7.1: NHÓM THEO KHOẢNG GIÁ ===\")\n",
    "gia_tri = df['GiaTri'].fillna(0).values\n",
    "nhom_gia = np.digitize(gia_tri, bins=[0, 500000, 1500000, 5000000, np.inf])\n",
    "nhom_labels = ['Rẻ (0-500K)', 'Trung bình (500K-1.5M)', 'Cao (1.5M-5M)', 'Rất cao (>5M)']\n",
    "\n",
    "for i, label in enumerate(nhom_labels, 1):\n",
    "    mask = nhom_gia == i\n",
    "    if np.any(mask):\n",
    "        so_luong_nhom = np.sum(df.loc[mask, 'SoLuong'])\n",
    "        print(f\"{label}: {np.sum(mask)} sản phẩm, Tổng số lượng: {so_luong_nhom}\")\n",
    "\n",
    "# Ví dụ 7.2: Tính trung bình theo nhóm\n",
    "print(\"\\n=== VÍ DỤ 7.2: TRUNG BÌNH THEO NHÓM ===\")\n",
    "for i, label in enumerate(nhom_labels, 1):\n",
    "    mask = nhom_gia == i\n",
    "    if np.any(mask):\n",
    "        tb_so_luong = np.mean(df.loc[mask, 'SoLuong'])\n",
    "        tb_gia_tri = np.mean(df.loc[mask, 'GiaTri'].fillna(0))\n",
    "        print(f\"{label}: TB số lượng = {tb_so_luong:.1f}, TB giá trị = {tb_gia_tri:,.0f}\")\n"
   ],
   "id": "b8b7eae79e624639",
   "outputs": [
    {
     "name": "stdout",
     "output_type": "stream",
     "text": [
      "=== VÍ DỤ 7.1: NHÓM THEO KHOẢNG GIÁ ===\n",
      "Rẻ (0-500K): 8 sản phẩm, Tổng số lượng: 740\n",
      "Trung bình (500K-1.5M): 5 sản phẩm, Tổng số lượng: 145\n",
      "Cao (1.5M-5M): 5 sản phẩm, Tổng số lượng: 65\n",
      "Rất cao (>5M): 2 sản phẩm, Tổng số lượng: 13\n",
      "\n",
      "=== VÍ DỤ 7.2: TRUNG BÌNH THEO NHÓM ===\n",
      "Rẻ (0-500K): TB số lượng = 92.5, TB giá trị = 208,750\n",
      "Trung bình (500K-1.5M): TB số lượng = 29.0, TB giá trị = 870,000\n",
      "Cao (1.5M-5M): TB số lượng = 13.0, TB giá trị = 2,260,000\n",
      "Rất cao (>5M): TB số lượng = 6.5, TB giá trị = 15,250,000\n"
     ]
    }
   ],
   "execution_count": 77
  },
  {
   "metadata": {
    "ExecuteTime": {
     "end_time": "2025-10-26T14:43:34.003444Z",
     "start_time": "2025-10-26T14:43:33.975351Z"
    }
   },
   "cell_type": "code",
   "source": [
    "# ============== CHỦ ĐỀ 8: NORMALIZATION VÀ STANDARDIZATION ==============\n",
    "import pandas as pd\n",
    "import numpy as np\n",
    "\n",
    "df = pd.read_csv('sample_data.csv')\n",
    "\n",
    "# Ví dụ 8.1: Min-Max Normalization\n",
    "print(\"=== VÍ DỤ 8.1: MIN-MAX NORMALIZATION ===\")\n",
    "so_luong = df['SoLuong'].values\n",
    "so_luong_norm = (so_luong - np.min(so_luong)) / (np.max(so_luong) - np.min(so_luong))\n",
    "df['SoLuong_Normalized'] = so_luong_norm\n",
    "print(\"Số lượng sau normalization (0-1):\")\n",
    "print(df[['TenSanPham', 'SoLuong', 'SoLuong_Normalized']].head().to_string(index=False))\n",
    "\n",
    "# Ví dụ 8.2: Z-Score Standardization\n",
    "print(\"\\n=== VÍ DỤ 8.2: Z-SCORE STANDARDIZATION ===\")\n",
    "gia_tri = df['GiaTri'].fillna(df['GiaTri'].mean()).values\n",
    "gia_tri_std = (gia_tri - np.mean(gia_tri)) / np.std(gia_tri)\n",
    "df['GiaTri_Standardized'] = gia_tri_std\n",
    "print(\"Giá trị sau standardization:\")\n",
    "print(df[['TenSanPham', 'GiaTri', 'GiaTri_Standardized']].head().to_string(index=False))\n",
    "print(f\"Mean: {np.mean(gia_tri_std):.3f}, Std: {np.std(gia_tri_std):.3f}\")\n"
   ],
   "id": "6a00b9e88477da22",
   "outputs": [
    {
     "name": "stdout",
     "output_type": "stream",
     "text": [
      "=== VÍ DỤ 8.1: MIN-MAX NORMALIZATION ===\n",
      "Số lượng sau normalization (0-1):\n",
      "      TenSanPham  SoLuong  SoLuong_Normalized\n",
      "     Laptop Dell       10            0.040404\n",
      " Chuot khong day       50            0.242424\n",
      "Man hinh 27 inch       15            0.065657\n",
      "     Ban phim co       25            0.116162\n",
      "       Webcam HD        5            0.015152\n",
      "\n",
      "=== VÍ DỤ 8.2: Z-SCORE STANDARDIZATION ===\n",
      "Giá trị sau standardization:\n",
      "      TenSanPham     GiaTri  GiaTri_Standardized\n",
      "     Laptop Dell 25000000.0             4.215425\n",
      " Chuot khong day   350000.0            -0.406267\n",
      "Man hinh 27 inch        NaN             0.000000\n",
      "     Ban phim co  1800000.0            -0.134403\n",
      "       Webcam HD   800000.0            -0.321895\n",
      "Mean: 0.000, Std: 1.000\n"
     ]
    }
   ],
   "execution_count": 78
  },
  {
   "metadata": {
    "ExecuteTime": {
     "end_time": "2025-10-26T14:43:52.262367Z",
     "start_time": "2025-10-26T14:43:52.233563Z"
    }
   },
   "cell_type": "code",
   "source": [
    "# ============== CHỦ ĐỀ 9: CORRELATION VÀ COVARIANCE ==============\n",
    "import pandas as pd\n",
    "import numpy as np\n",
    "\n",
    "df = pd.read_csv('sample_data.csv')\n",
    "\n",
    "# Ví dụ 9.1: Tính correlation matrix\n",
    "print(\"=== VÍ DỤ 9.1: CORRELATION MATRIX ===\")\n",
    "numeric_cols = df[['ID', 'SoLuong', 'GiaTri']].fillna(0)\n",
    "correlation_matrix = np.corrcoef(numeric_cols.T)\n",
    "col_names = ['ID', 'SoLuong', 'GiaTri']\n",
    "print(\"Ma trận tương quan:\")\n",
    "for i, name1 in enumerate(col_names):\n",
    "    for j, name2 in enumerate(col_names):\n",
    "        print(f\"{name1} vs {name2}: {correlation_matrix[i,j]:.3f}\")\n",
    "    print()\n",
    "\n",
    "# Ví dụ 9.2: Tính covariance\n",
    "print(\"=== VÍ DỤ 9.2: COVARIANCE ===\")\n",
    "so_luong = df['SoLuong'].values\n",
    "gia_tri = df['GiaTri'].fillna(0).values\n",
    "covariance = np.cov(so_luong, gia_tri)[0,1]\n",
    "correlation = np.corrcoef(so_luong, gia_tri)[0,1]\n",
    "print(f\"Covariance giữa SoLuong và GiaTri: {covariance:,.2f}\")\n",
    "print(f\"Correlation giữa SoLuong và GiaTri: {correlation:.3f}\")\n"
   ],
   "id": "a7d414bb58eaf628",
   "outputs": [
    {
     "name": "stdout",
     "output_type": "stream",
     "text": [
      "=== VÍ DỤ 9.1: CORRELATION MATRIX ===\n",
      "Ma trận tương quan:\n",
      "ID vs ID: 1.000\n",
      "ID vs SoLuong: 0.344\n",
      "ID vs GiaTri: -0.351\n",
      "\n",
      "SoLuong vs ID: 0.344\n",
      "SoLuong vs SoLuong: 1.000\n",
      "SoLuong vs GiaTri: -0.298\n",
      "\n",
      "GiaTri vs ID: -0.351\n",
      "GiaTri vs SoLuong: -0.298\n",
      "GiaTri vs GiaTri: 1.000\n",
      "\n",
      "=== VÍ DỤ 9.2: COVARIANCE ===\n",
      "Covariance giữa SoLuong và GiaTri: -86,301,736.84\n",
      "Correlation giữa SoLuong và GiaTri: -0.298\n"
     ]
    }
   ],
   "execution_count": 80
  },
  {
   "metadata": {
    "ExecuteTime": {
     "end_time": "2025-10-26T14:44:16.701855Z",
     "start_time": "2025-10-26T14:44:16.665610Z"
    }
   },
   "cell_type": "code",
   "source": [
    "# ============== CHỦ ĐỀ 10: RANDOM SAMPLING VÀ SIMULATION ==============\n",
    "import pandas as pd\n",
    "import numpy as np\n",
    "\n",
    "df = pd.read_csv('sample_data.csv')\n",
    "\n",
    "# Ví dụ 10.1: Random sampling\n",
    "print(\"=== VÍ DỤ 10.1: RANDOM SAMPLING ===\")\n",
    "np.random.seed(42)  # Để kết quả reproducible\n",
    "sample_indices = np.random.choice(len(df), size=5, replace=False)\n",
    "sample_df = df.iloc[sample_indices]\n",
    "print(\"5 sản phẩm được chọn ngẫu nhiên:\")\n",
    "print(sample_df[['TenSanPham', 'SoLuong', 'GiaTri']].to_string(index=False))\n",
    "\n",
    "# Ví dụ 10.2: Simulation - Dự đoán doanh số\n",
    "print(\"\\n=== VÍ DỤ 10.2: SIMULATION DOANH SỐ ===\")\n",
    "np.random.seed(42)\n",
    "so_luong = df['SoLuong'].values\n",
    "gia_tri = df['GiaTri'].fillna(0).values\n",
    "\n",
    "# Giả lập tỷ lệ bán hàng ngẫu nhiên (10-50%)\n",
    "ty_le_ban = np.random.uniform(0.1, 0.5, len(df))\n",
    "so_luong_ban = np.floor(so_luong * ty_le_ban).astype(int)\n",
    "doanh_so = so_luong_ban * gia_tri\n",
    "\n",
    "df['SoLuongBan_Simulation'] = so_luong_ban\n",
    "df['DoanhSo_Simulation'] = doanh_so\n",
    "\n",
    "print(\"Kết quả simulation doanh số:\")\n",
    "print(df[['TenSanPham', 'SoLuong', 'SoLuongBan_Simulation', 'DoanhSo_Simulation']].head().to_string(index=False))\n",
    "print(f\"Tổng doanh số simulation: {np.sum(doanh_so):,.0f}\")\n"
   ],
   "id": "6469f0c5e06b2b03",
   "outputs": [
    {
     "name": "stdout",
     "output_type": "stream",
     "text": [
      "=== VÍ DỤ 10.1: RANDOM SAMPLING ===\n",
      "5 sản phẩm được chọn ngẫu nhiên:\n",
      "     TenSanPham  SoLuong     GiaTri\n",
      "    Laptop Dell       10 25000000.0\n",
      "   Cap HDMI 2.0      150   100000.0\n",
      " May chieu mini        3  5500000.0\n",
      "Chuot khong day       50   350000.0\n",
      " Router Wi-Fi 6        8  2200000.0\n",
      "\n",
      "=== VÍ DỤ 10.2: SIMULATION DOANH SỐ ===\n",
      "Kết quả simulation doanh số:\n",
      "      TenSanPham  SoLuong  SoLuongBan_Simulation  DoanhSo_Simulation\n",
      "     Laptop Dell       10                      2          50000000.0\n",
      " Chuot khong day       50                     24           8400000.0\n",
      "Man hinh 27 inch       15                      5                 0.0\n",
      "     Ban phim co       25                      8          14400000.0\n",
      "       Webcam HD        5                      0                 0.0\n",
      "Tổng doanh số simulation: 159,650,000\n"
     ]
    }
   ],
   "execution_count": 81
  }
 ],
 "metadata": {
  "kernelspec": {
   "display_name": "Python 3",
   "language": "python",
   "name": "python3"
  },
  "language_info": {
   "codemirror_mode": {
    "name": "ipython",
    "version": 2
   },
   "file_extension": ".py",
   "mimetype": "text/x-python",
   "name": "python",
   "nbconvert_exporter": "python",
   "pygments_lexer": "ipython2",
   "version": "2.7.6"
  }
 },
 "nbformat": 4,
 "nbformat_minor": 5
}
